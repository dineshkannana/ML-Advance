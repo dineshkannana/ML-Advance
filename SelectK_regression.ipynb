{
 "cells": [
  {
   "cell_type": "code",
   "execution_count": 1,
   "id": "80107e9d-d2c8-4fa0-9dbb-0eb9a80b1e56",
   "metadata": {},
   "outputs": [],
   "source": [
    "import pandas as pd\n",
    "from sklearn.model_selection import train_test_split\n",
    "import time\n",
    "import numpy as np\n",
    "from sklearn.preprocessing import StandardScaler\n",
    "from sklearn.feature_selection import SelectKBest\n",
    "from sklearn.feature_selection import chi2\n",
    "from sklearn.feature_selection import RFE\n",
    "from sklearn.linear_model import LogisticRegression\n",
    "import pickle\n",
    "import matplotlib.pyplot as plt\n",
    "\n",
    "\n",
    "def selectkbest(indep_X, dep_Y, n):\n",
    "    test = SelectKBest(score_func=chi2, k=n) \n",
    "    fit1 = test.fit(indep_X, dep_Y)  \n",
    "    featurename = fit1.get_support(indices=True) \n",
    "    selected_features = df2.columns[featurename]\n",
    "    features = selected_features.to_list()\n",
    "    print(f\"the best{n} features are\",features)\n",
    "    selectk_features = fit1.transform(indep_X) \n",
    "    return selectk_features  \n",
    "\n",
    "\n",
    "def split_scalar(indep_X, dep_Y):\n",
    "    X_train, X_test, y_train, y_test = train_test_split(indep_X, dep_Y, test_size=0.25, random_state=0) \n",
    "    sc = StandardScaler()  \n",
    "    X_train = sc.fit_transform(X_train)  \n",
    "    X_test = sc.transform(X_test) \n",
    "    return X_train, X_test, y_train, y_test \n",
    "\n",
    "def r2_prediction(regressor, X_test, y_test):\n",
    "    y_pred = regressor.predict(X_test) \n",
    "    from sklearn.metrics import r2_score \n",
    "    r2 = r2_score(y_test, y_pred) \n",
    "    return r2\n",
    "\n",
    "\n",
    "def Linear(X_train, y_train, X_test):\n",
    "    from sklearn.linear_model import LinearRegression\n",
    "    regressor = LinearRegression()\n",
    "    regressor.fit(X_train, y_train)  \n",
    "    r2 = r2_prediction(regressor, X_test, y_test)  \n",
    "    return r2  \n",
    "\n",
    "\n",
    "def svm_linear(X_train, y_train, X_test):\n",
    "    from sklearn.svm import SVR\n",
    "    regressor = SVR(kernel='linear') \n",
    "    regressor.fit(X_train, y_train)  \n",
    "    r2 = r2_prediction(regressor, X_test, y_test)\n",
    "    return r2  \n",
    "\n",
    "def svm_NL(X_train, y_train, X_test):\n",
    "    from sklearn.svm import SVR \n",
    "    regressor = SVR(kernel='rbf') \n",
    "    regressor.fit(X_train, y_train)  \n",
    "    r2 = r2_prediction(regressor, X_test, y_test)  \n",
    "    return r2 \n",
    "\n",
    "def Decision(X_train, y_train, X_test):\n",
    "    from sklearn.tree import DecisionTreeRegressor \n",
    "    regressor = DecisionTreeRegressor(random_state=0)\n",
    "    regressor.fit(X_train, y_train)\n",
    "    r2 = r2_prediction(regressor, X_test, y_test) \n",
    "    return r2\n",
    "\n",
    "def random(X_train, y_train, X_test):\n",
    "    from sklearn.ensemble import RandomForestRegressor  \n",
    "    regressor = RandomForestRegressor(n_estimators=10, random_state=0) \n",
    "    regressor.fit(X_train, y_train) \n",
    "    r2 = r2_prediction(regressor, X_test, y_test) \n",
    "    return r2 \n",
    "\n",
    "\n",
    "def selectk_regression(acclin, accsvml, accsvmnl, accdes, accrf):\n",
    "    dataframe = pd.DataFrame(index=['ChiSquare'], columns=['Linear', 'SVMl', 'SVMnl', 'Decision', 'Random'])  \n",
    "    for number, idex in enumerate(dataframe.index):\n",
    "        dataframe.loc[idex, 'Linear'] = acclin[number] \n",
    "        dataframe.loc[idex, 'SVMl'] = accsvml[number]  \n",
    "        dataframe.loc[idex, 'SVMnl'] = accsvmnl[number]  \n",
    "        dataframe.loc[idex, 'Decision'] = accdes[number]  \n",
    "        dataframe.loc[idex, 'Random'] = accrf[number] \n",
    "    return dataframe "
   ]
  },
  {
   "cell_type": "code",
   "execution_count": 2,
   "id": "5b85bd70-9b8c-4924-9e70-d2c18382849d",
   "metadata": {},
   "outputs": [],
   "source": [
    "\n",
    "dataset1 = pd.read_csv(\"prep.csv\", index_col=None)\n",
    "\n",
    "\n",
    "df2 = dataset1\n",
    "\n",
    "\n",
    "df2 = pd.get_dummies(df2, drop_first=True)\n",
    "\n",
    "\n",
    "indep_X = df2.drop('classification_yes', axis=1)  \n",
    "dep_Y = df2['classification_yes']  "
   ]
  },
  {
   "cell_type": "code",
   "execution_count": 3,
   "id": "e4df1bc8-9ca1-4646-b9c0-4093dfade2a3",
   "metadata": {},
   "outputs": [
    {
     "name": "stdout",
     "output_type": "stream",
     "text": [
      "the best3 features are ['bgr', 'bu', 'wc']\n"
     ]
    }
   ],
   "source": [
    "\n",
    "kbest = selectkbest(indep_X, dep_Y, 3)\n",
    "\n",
    "\n",
    "acclin = []\n",
    "accsvml = []\n",
    "accsvmnl = []\n",
    "accdes = []\n",
    "accrf = []"
   ]
  },
  {
   "cell_type": "code",
   "execution_count": 4,
   "id": "7ea7231d-a4b8-45ce-bae4-8fc509e7c9a7",
   "metadata": {},
   "outputs": [
    {
     "data": {
      "text/plain": [
       "array([[  148.11267606,    57.48210526,  8408.19112628],\n",
       "       [  148.11267606,    22.        , 12300.        ],\n",
       "       [   99.        ,    23.        ,  8408.19112628],\n",
       "       ...,\n",
       "       [  110.        ,   115.        ,  9200.        ],\n",
       "       [  207.        ,    80.        ,  8408.19112628],\n",
       "       [  100.        ,    49.        ,  8500.        ]])"
      ]
     },
     "execution_count": 4,
     "metadata": {},
     "output_type": "execute_result"
    }
   ],
   "source": [
    "kbest"
   ]
  },
  {
   "cell_type": "code",
   "execution_count": 7,
   "id": "3aac7b56-652d-452a-af5b-4f43e85b5c84",
   "metadata": {},
   "outputs": [
    {
     "name": "stdout",
     "output_type": "stream",
     "text": [
      "the best5 features are ['bgr', 'bu', 'sc', 'pcv', 'wc']\n"
     ]
    }
   ],
   "source": [
    "kbest = selectkbest(indep_X, dep_Y, 5)\n",
    "\n",
    "\n",
    "acclin = []\n",
    "accsvml = []\n",
    "accsvmnl = []\n",
    "accdes = []\n",
    "accrf = []"
   ]
  },
  {
   "cell_type": "code",
   "execution_count": 8,
   "id": "946ca790-ce83-4f30-a9db-8b12fd9e965f",
   "metadata": {},
   "outputs": [
    {
     "data": {
      "text/plain": [
       "array([[1.48112676e+02, 5.74821053e+01, 3.07735602e+00, 3.88689024e+01,\n",
       "        8.40819113e+03],\n",
       "       [1.48112676e+02, 2.20000000e+01, 7.00000000e-01, 3.40000000e+01,\n",
       "        1.23000000e+04],\n",
       "       [9.90000000e+01, 2.30000000e+01, 6.00000000e-01, 3.40000000e+01,\n",
       "        8.40819113e+03],\n",
       "       ...,\n",
       "       [1.10000000e+02, 1.15000000e+02, 6.00000000e+00, 2.60000000e+01,\n",
       "        9.20000000e+03],\n",
       "       [2.07000000e+02, 8.00000000e+01, 6.80000000e+00, 3.88689024e+01,\n",
       "        8.40819113e+03],\n",
       "       [1.00000000e+02, 4.90000000e+01, 1.00000000e+00, 5.30000000e+01,\n",
       "        8.50000000e+03]])"
      ]
     },
     "execution_count": 8,
     "metadata": {},
     "output_type": "execute_result"
    }
   ],
   "source": [
    "kbest"
   ]
  },
  {
   "cell_type": "code",
   "execution_count": 9,
   "id": "1d48386c-ffcc-4459-a894-052fd79f34fe",
   "metadata": {},
   "outputs": [],
   "source": [
    "\n",
    "X_train, X_test, y_train, y_test = split_scalar(kbest, dep_Y)\n",
    "\n",
    "for i in kbest:\n",
    "    r2_lin = Linear(X_train, y_train, X_test)  \n",
    "    acclin.append(r2_lin) \n",
    "    r2_sl = svm_linear(X_train, y_train, X_test)\n",
    "    accsvml.append(r2_sl) \n",
    "\n",
    "    r2_NL = svm_NL(X_train, y_train, X_test) \n",
    "    accsvmnl.append(r2_NL)  \n",
    "\n",
    "    r2_d = Decision(X_train, y_train, X_test) \n",
    "    accdes.append(r2_d) \n",
    "\n",
    "    r2_r = random(X_train, y_train, X_test)  \n",
    "    accrf.append(r2_r)  \n",
    "\n",
    "\n",
    "result = selectk_regression(acclin, accsvml, accsvmnl, accdes, accrf)\n"
   ]
  },
  {
   "cell_type": "code",
   "execution_count": 6,
   "id": "a3659d29-c3f7-4770-87bd-c740304af69f",
   "metadata": {},
   "outputs": [
    {
     "data": {
      "text/html": [
       "<div>\n",
       "<style scoped>\n",
       "    .dataframe tbody tr th:only-of-type {\n",
       "        vertical-align: middle;\n",
       "    }\n",
       "\n",
       "    .dataframe tbody tr th {\n",
       "        vertical-align: top;\n",
       "    }\n",
       "\n",
       "    .dataframe thead th {\n",
       "        text-align: right;\n",
       "    }\n",
       "</style>\n",
       "<table border=\"1\" class=\"dataframe\">\n",
       "  <thead>\n",
       "    <tr style=\"text-align: right;\">\n",
       "      <th></th>\n",
       "      <th>Linear</th>\n",
       "      <th>SVMl</th>\n",
       "      <th>SVMnl</th>\n",
       "      <th>Decision</th>\n",
       "      <th>Random</th>\n",
       "    </tr>\n",
       "  </thead>\n",
       "  <tbody>\n",
       "    <tr>\n",
       "      <th>ChiSquare</th>\n",
       "      <td>0.287968</td>\n",
       "      <td>0.255063</td>\n",
       "      <td>0.3335</td>\n",
       "      <td>0.262153</td>\n",
       "      <td>0.528212</td>\n",
       "    </tr>\n",
       "  </tbody>\n",
       "</table>\n",
       "</div>"
      ],
      "text/plain": [
       "             Linear      SVMl   SVMnl  Decision    Random\n",
       "ChiSquare  0.287968  0.255063  0.3335  0.262153  0.528212"
      ]
     },
     "execution_count": 6,
     "metadata": {},
     "output_type": "execute_result"
    }
   ],
   "source": [
    "result\n",
    "#3"
   ]
  },
  {
   "cell_type": "code",
   "execution_count": 10,
   "id": "f7c70dbd-c7f4-47a6-a386-751e07478da2",
   "metadata": {},
   "outputs": [
    {
     "data": {
      "text/html": [
       "<div>\n",
       "<style scoped>\n",
       "    .dataframe tbody tr th:only-of-type {\n",
       "        vertical-align: middle;\n",
       "    }\n",
       "\n",
       "    .dataframe tbody tr th {\n",
       "        vertical-align: top;\n",
       "    }\n",
       "\n",
       "    .dataframe thead th {\n",
       "        text-align: right;\n",
       "    }\n",
       "</style>\n",
       "<table border=\"1\" class=\"dataframe\">\n",
       "  <thead>\n",
       "    <tr style=\"text-align: right;\">\n",
       "      <th></th>\n",
       "      <th>Linear</th>\n",
       "      <th>SVMl</th>\n",
       "      <th>SVMnl</th>\n",
       "      <th>Decision</th>\n",
       "      <th>Random</th>\n",
       "    </tr>\n",
       "  </thead>\n",
       "  <tbody>\n",
       "    <tr>\n",
       "      <th>ChiSquare</th>\n",
       "      <td>0.551985</td>\n",
       "      <td>0.545395</td>\n",
       "      <td>0.749654</td>\n",
       "      <td>0.696181</td>\n",
       "      <td>0.836806</td>\n",
       "    </tr>\n",
       "  </tbody>\n",
       "</table>\n",
       "</div>"
      ],
      "text/plain": [
       "             Linear      SVMl     SVMnl  Decision    Random\n",
       "ChiSquare  0.551985  0.545395  0.749654  0.696181  0.836806"
      ]
     },
     "execution_count": 10,
     "metadata": {},
     "output_type": "execute_result"
    }
   ],
   "source": [
    "result\n",
    "#5"
   ]
  },
  {
   "cell_type": "code",
   "execution_count": null,
   "id": "2a9b47be-2e73-4c67-a17e-78493c8e8bd3",
   "metadata": {},
   "outputs": [],
   "source": []
  }
 ],
 "metadata": {
  "kernelspec": {
   "display_name": "Python 3 (ipykernel)",
   "language": "python",
   "name": "python3"
  },
  "language_info": {
   "codemirror_mode": {
    "name": "ipython",
    "version": 3
   },
   "file_extension": ".py",
   "mimetype": "text/x-python",
   "name": "python",
   "nbconvert_exporter": "python",
   "pygments_lexer": "ipython3",
   "version": "3.11.5"
  }
 },
 "nbformat": 4,
 "nbformat_minor": 5
}
