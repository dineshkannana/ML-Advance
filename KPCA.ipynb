{
 "cells": [
  {
   "cell_type": "code",
   "execution_count": null,
   "id": "e5c78bb5-25b4-4413-b775-7269cc3bf65a",
   "metadata": {},
   "outputs": [],
   "source": []
  }
 ],
 "metadata": {
  "kernelspec": {
   "display_name": "",
   "name": ""
  },
  "language_info": {
   "name": ""
  }
 },
 "nbformat": 4,
 "nbformat_minor": 5
}
