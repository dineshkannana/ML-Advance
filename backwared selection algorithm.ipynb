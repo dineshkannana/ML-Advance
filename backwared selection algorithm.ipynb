{
 "cells": [
  {
   "cell_type": "code",
   "execution_count": 1,
   "id": "fbe21609-6f3c-47bf-b904-2b7a33c03ec3",
   "metadata": {},
   "outputs": [],
   "source": [
    "import numpy as np\n",
    "import pandas as pd\n",
    "from sklearn.linear_model import LinearRegression\n",
    "from sklearn.model_selection import cross_val_score\n",
    "from sklearn.datasets import make_regression\n"
   ]
  },
  {
   "cell_type": "code",
   "execution_count": 2,
   "id": "c7849a0f-5cdf-4379-9e85-d35e26b98ae2",
   "metadata": {},
   "outputs": [],
   "source": [
    "# Create a sample regression dataset\n",
    "X, y = make_regression(n_samples=100, n_features=10, noise=0.1, random_state=42)\n",
    "X = pd.DataFrame(X, columns=[f\"feature_{i}\" for i in range(X.shape[1])])\n"
   ]
  },
  {
   "cell_type": "code",
   "execution_count": 3,
   "id": "a979595d-184b-4c52-b178-7950b4c816a8",
   "metadata": {},
   "outputs": [],
   "source": [
    "def backward_selection(X, y, model, scoring='r2', min_features=1, verbose=True):\n",
    "    selected = list(X.columns)\n",
    "    best_score = np.mean(cross_val_score(model, X[selected], y, cv=5, scoring=scoring))\n",
    "    \n",
    "    while len(selected) > min_features:\n",
    "        scores = []\n",
    "        for feature in selected:\n",
    "            trial_features = [f for f in selected if f != feature]\n",
    "            score = np.mean(cross_val_score(model, X[trial_features], y, cv=5, scoring=scoring))\n",
    "            scores.append((score, feature))\n",
    "        \n",
    "        scores.sort(reverse=True)\n",
    "        top_score, worst_feature = scores[0]\n",
    "        \n",
    "        if top_score >= best_score:\n",
    "            selected.remove(worst_feature)\n",
    "            best_score = top_score\n",
    "            if verbose:\n",
    "                print(f\"Removed {worst_feature}, Score: {top_score:.4f}\")\n",
    "        else:\n",
    "            if verbose:\n",
    "                print(\"No further improvement. Stopping.\")\n",
    "            break\n",
    "            \n",
    "    return selected, best_score"
   ]
  },
  {
   "cell_type": "code",
   "execution_count": 4,
   "id": "3ad470b8-851d-459a-b1b7-6bcd134a5ff9",
   "metadata": {},
   "outputs": [
    {
     "name": "stdout",
     "output_type": "stream",
     "text": [
      "No further improvement. Stopping.\n",
      "\n",
      "Selected features: ['feature_0', 'feature_1', 'feature_2', 'feature_3', 'feature_4', 'feature_5', 'feature_6', 'feature_7', 'feature_8', 'feature_9']\n",
      "Final R² score: 0.9999996208615279\n"
     ]
    }
   ],
   "source": [
    "# Use the function\n",
    "model = LinearRegression()\n",
    "selected_features, final_score = backward_selection(X, y, model)\n",
    "\n",
    "print(\"\\nSelected features:\", selected_features)\n",
    "print(\"Final R² score:\", final_score)"
   ]
  },
  {
   "cell_type": "code",
   "execution_count": null,
   "id": "21c4d5f6-9784-4aa6-aee6-af776ec66bcd",
   "metadata": {},
   "outputs": [],
   "source": []
  },
  {
   "cell_type": "code",
   "execution_count": null,
   "id": "5091bb10-3e96-4083-8fcd-05f72d27ba9f",
   "metadata": {},
   "outputs": [],
   "source": []
  }
 ],
 "metadata": {
  "kernelspec": {
   "display_name": "Python 3 (ipykernel)",
   "language": "python",
   "name": "python3"
  },
  "language_info": {
   "codemirror_mode": {
    "name": "ipython",
    "version": 3
   },
   "file_extension": ".py",
   "mimetype": "text/x-python",
   "name": "python",
   "nbconvert_exporter": "python",
   "pygments_lexer": "ipython3",
   "version": "3.11.5"
  }
 },
 "nbformat": 4,
 "nbformat_minor": 5
}
