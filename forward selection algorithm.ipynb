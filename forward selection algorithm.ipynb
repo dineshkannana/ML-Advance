{
 "cells": [
  {
   "cell_type": "code",
   "execution_count": 1,
   "id": "26cb09fb-d997-4191-9018-46407cd47557",
   "metadata": {},
   "outputs": [],
   "source": [
    "import numpy as np\n",
    "import pandas as pd\n",
    "from sklearn.datasets import make_regression\n",
    "from sklearn.linear_model import LinearRegression\n",
    "from sklearn.model_selection import cross_val_score\n"
   ]
  },
  {
   "cell_type": "code",
   "execution_count": 2,
   "id": "47dd0a62-60e4-42ac-9936-514dc8dabd88",
   "metadata": {},
   "outputs": [],
   "source": [
    "# Generate synthetic dataset\n",
    "X, y = make_regression(n_samples=100, n_features=10, n_informative=4, noise=0.1, random_state=42)\n",
    "X = pd.DataFrame(X, columns=[f'feature_{i}' for i in range(X.shape[1])])\n"
   ]
  },
  {
   "cell_type": "code",
   "execution_count": 3,
   "id": "239502dc-a62d-478e-bf4b-c271e760cfff",
   "metadata": {},
   "outputs": [],
   "source": [
    "# Forward Selection function\n",
    "def forward_selection(X, y, model, scoring='r2', max_features=None, verbose=True):\n",
    "    if max_features is None:\n",
    "        max_features = X.shape[1]\n",
    "    \n",
    "    selected_features = []\n",
    "    remaining_features = list(X.columns)\n",
    "    best_score = -np.inf\n",
    "    \n",
    "    while remaining_features and len(selected_features) < max_features:\n",
    "        scores = []\n",
    "        for feature in remaining_features:\n",
    "            # Try current selected features + one new feature\n",
    "            current_features = selected_features + [feature]\n",
    "            X_subset = X[current_features]\n",
    "            # Evaluate model with cross-validation\n",
    "            score = np.mean(cross_val_score(model, X_subset, y, cv=5, scoring=scoring))\n",
    "            scores.append((score, feature))\n",
    "        \n",
    "        # Find the best feature to add\n",
    "        scores.sort(reverse=True)\n",
    "        best_new_score, best_feature = scores[0]\n",
    "        \n",
    "        if best_new_score > best_score:\n",
    "            selected_features.append(best_feature)\n",
    "            remaining_features.remove(best_feature)\n",
    "            best_score = best_new_score\n",
    "            if verbose:\n",
    "                print(f\"Added {best_feature}, Score: {best_score:.4f}\")\n",
    "        else:\n",
    "            # Stop if no improvement\n",
    "            if verbose:\n",
    "                print(\"No further improvement. Stopping.\")\n",
    "            break\n",
    "    \n",
    "    return selected_features, best_score\n"
   ]
  },
  {
   "cell_type": "code",
   "execution_count": 4,
   "id": "f23d64da-fac8-4303-b509-227f53d2d68e",
   "metadata": {},
   "outputs": [],
   "source": [
    "# Initialize model\n",
    "model = LinearRegression()"
   ]
  },
  {
   "cell_type": "code",
   "execution_count": 5,
   "id": "6c7ced61-273a-406c-8155-249aad6d8966",
   "metadata": {},
   "outputs": [
    {
     "name": "stdout",
     "output_type": "stream",
     "text": [
      "Added feature_7, Score: 0.4970\n",
      "Added feature_3, Score: 0.9654\n",
      "Added feature_1, Score: 0.9871\n",
      "Added feature_5, Score: 1.0000\n",
      "Added feature_9, Score: 1.0000\n",
      "No further improvement. Stopping.\n"
     ]
    }
   ],
   "source": [
    "# Run forward selection\n",
    "selected_features, final_score = forward_selection(X, y, model, scoring='r2')"
   ]
  },
  {
   "cell_type": "code",
   "execution_count": 6,
   "id": "242aeb8b-8d6f-4ecc-b42d-4f85a7ea0be3",
   "metadata": {},
   "outputs": [
    {
     "name": "stdout",
     "output_type": "stream",
     "text": [
      "\n",
      "Final selected features: ['feature_7', 'feature_3', 'feature_1', 'feature_5', 'feature_9']\n",
      "Final R² score: 0.9999989530922127\n"
     ]
    }
   ],
   "source": [
    "print(\"\\nFinal selected features:\", selected_features)\n",
    "print(\"Final R² score:\", final_score)\n"
   ]
  },
  {
   "cell_type": "code",
   "execution_count": 7,
   "id": "580666a1-cecf-492b-9ee7-34f8bf0ffd66",
   "metadata": {},
   "outputs": [
    {
     "name": "stdout",
     "output_type": "stream",
     "text": [
      "Model coefficients: [7.06440999e+01 6.36498603e+01 1.67620845e+01 1.04501231e+01\n",
      " 1.27385973e-02]\n"
     ]
    }
   ],
   "source": [
    "# Train final model with selected features\n",
    "X_final = X[selected_features]\n",
    "model.fit(X_final, y)\n",
    "print(\"Model coefficients:\", model.coef_)"
   ]
  },
  {
   "cell_type": "code",
   "execution_count": null,
   "id": "bd40c94c-6eab-4da3-b538-df20c5376bd5",
   "metadata": {},
   "outputs": [],
   "source": []
  }
 ],
 "metadata": {
  "kernelspec": {
   "display_name": "Python 3 (ipykernel)",
   "language": "python",
   "name": "python3"
  },
  "language_info": {
   "codemirror_mode": {
    "name": "ipython",
    "version": 3
   },
   "file_extension": ".py",
   "mimetype": "text/x-python",
   "name": "python",
   "nbconvert_exporter": "python",
   "pygments_lexer": "ipython3",
   "version": "3.11.5"
  }
 },
 "nbformat": 4,
 "nbformat_minor": 5
}
