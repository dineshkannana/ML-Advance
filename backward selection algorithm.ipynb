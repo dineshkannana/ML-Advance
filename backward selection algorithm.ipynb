{
 "cells": [
  {
   "cell_type": "code",
   "execution_count": null,
   "id": "cafdc2be-8fef-4071-8ce5-237e734d1cc5",
   "metadata": {},
   "outputs": [],
   "source": [
    "# Forward Feature Seelction method...\n",
    "\n",
    "import pandas as pd\n",
    "import numpy as np\n",
    "import pickle\n",
    "import matplotlib.pyplot as plt\n",
    "import time\n",
    "from sklearn.model_selection import train_test_split\n",
    "from sklearn.preprocessing import StandardScaler\n",
    "from sklearn.svm import SVC\n",
    "from sklearn.feature_selection import SequentialFeatureSelector\n",
    "from sklearn.linear_model import LogisticRegression\n",
    "\n"
   ]
  },
  {
   "cell_type": "code",
   "execution_count": null,
   "id": "14c6cef6-5267-4a8b-8247-76bce8ec4e1e",
   "metadata": {},
   "outputs": [],
   "source": [
    "def backward_selection(indep, dep,n):\n",
    "    svc_model = SVC(kernel='linear', random_state=0)\n",
    "    logistic_model=LogisticRegression(solver='saga', max_iter=1000)\n",
    "    bs = SequentialFeatureSelector(estimator=logistic_model, n_features_to_select=n, direction='backward', scoring=None, cv=5, n_jobs=1)\n",
    "    fit1 = bs.fit(indep, dep)\n",
    "    x_new= fit1.transform(indep)\n",
    "    \n",
    "    selected_features= indep.columns[fit1.get_support()]\n",
    "    \n",
    "    return x_new, selected_features\n",
    "\n",
    "\n",
    "def Split_Scaler(indep,dep):\n",
    "    x_train,x_test,y_train,y_test=train_test_split(indep,dep,test_size=0.30,random_state=0)\n",
    "    scX=StandardScaler()\n",
    "    x_train=scX.fit_transform(x_train)\n",
    "    x_test=scX.transform(x_test)\n",
    "    return x_train,x_test,y_train,y_test,scX\n",
    "    from sklearn.preprocessing import StandardScaler\n",
    "\n",
    "\n",
    "\n",
    "def cm_predition(classifier, x_test):\n",
    "    y_pred=classifier.predict(x_test)\n",
    "\n",
    "    #making the Confusion Matrix\n",
    "    from sklearn.metrics import confusion_matrix\n",
    "    cm=confusion_matrix(y_test,y_pred)\n",
    "\n",
    "    # making Classification Report\n",
    "    from sklearn.metrics import classification_report\n",
    "    clf_report=classification_report(y_test,y_pred)\n",
    "\n",
    "    # finding the accuracy score\n",
    "    from sklearn.metrics import accuracy_score\n",
    "    accuracy_score=accuracy_score(y_test,y_pred)\n",
    "    \n",
    "    return classifier,cm,clf_report,accuracy_score,x_test,y_test,y_pred\n",
    "\n",
    "def svm_linear(X_train, y_train, X_test, y_test):\n",
    "    from sklearn.svm import SVC\n",
    "    classifier = SVC(kernel='linear', random_state=0)\n",
    "    classifier.fit(X_train, y_train)\n",
    "    return cm_prediction(classifier, X_test, y_test)\n",
    "    \n",
    "\n",
    "# Displaying the values in the tabular frame\n",
    "\n",
    "def BW_selection(accuracy_score):\n",
    "    \n",
    "    df=pd.DataFrame(index=[\"svm_linear\"],columns=[\"svm_linear\"])\n",
    "    df[\"svm_linear\"]=accuracy_score\n",
    "    \n",
    "    return df"
   ]
  },
  {
   "cell_type": "code",
   "execution_count": null,
   "id": "65e2c77a-896d-4145-bb5d-0019512aec18",
   "metadata": {},
   "outputs": [],
   "source": [
    "dataset=pd.read_csv(\"prep.csv\",index_col=None)\n",
    "df1=dataset  \n",
    "\n",
    "#Convert categorical variable into dummy/indicator variables.\n",
    "df1=pd.get_dummies(df1,drop_first=True,dtype=int)\n",
    "df1\n",
    "\n",
    "# separation of independent and dependent variables\n",
    "indep=df1.drop(\"classification_yes\",axis=1)\n",
    "dep=df1[\"classification_yes\"]\n",
    "  \n",
    "x_new, selected_features = backward_selection(indep, dep, 3)\n",
    "x_new"
   ]
  },
  {
   "cell_type": "code",
   "execution_count": null,
   "id": "7c4d6408-285c-462a-846f-ffe58dc493e5",
   "metadata": {},
   "outputs": [],
   "source": [
    "x_train,x_test,y_train,y_test,scX = Split_Scaler(x_new, dep) \n",
    "\n",
    "classifier,cm,clf_report,accuracy_score,x_test,y_test,y_pred = logistic(x_train,y_train,x_test)\n",
    "\n",
    "result= BW_selection(accuracy_score)"
   ]
  },
  {
   "cell_type": "code",
   "execution_count": null,
   "id": "8bab5ccd-a369-4384-84ae-3b1e2daecb73",
   "metadata": {},
   "outputs": [],
   "source": [
    "print(\"Accuracy: \",accuracy_score)\n",
    "#3"
   ]
  },
  {
   "cell_type": "code",
   "execution_count": null,
   "id": "f5ba414a-6699-48b2-8ee1-927c9c8439f9",
   "metadata": {},
   "outputs": [],
   "source": [
    "result \n",
    "#3"
   ]
  },
  {
   "cell_type": "code",
   "execution_count": null,
   "id": "1f7f2d30-0cb6-4738-bfa5-9eec29c3ff43",
   "metadata": {},
   "outputs": [],
   "source": [
    "print (\"seleceted features: \",selected_features)\n",
    "#3"
   ]
  },
  {
   "cell_type": "code",
   "execution_count": null,
   "id": "9e20e4de-6677-4656-9bbd-9bc1a010dc4a",
   "metadata": {},
   "outputs": [],
   "source": [
    "print(\"Accuracy: \",accuracy_score)\n",
    "#5"
   ]
  },
  {
   "cell_type": "code",
   "execution_count": null,
   "id": "d5dc7ddf-a497-4075-9d21-59ca9f4c1772",
   "metadata": {},
   "outputs": [],
   "source": [
    "result\n",
    "#5"
   ]
  },
  {
   "cell_type": "code",
   "execution_count": null,
   "id": "4d63bab1-e660-47bc-9bfd-e9ba2d24de46",
   "metadata": {},
   "outputs": [],
   "source": [
    "print (\"seleceted features: \",selected_features)\n",
    "#5"
   ]
  }
 ],
 "metadata": {
  "kernelspec": {
   "display_name": "Python 3 (ipykernel)",
   "language": "python",
   "name": "python3"
  },
  "language_info": {
   "codemirror_mode": {
    "name": "ipython",
    "version": 3
   },
   "file_extension": ".py",
   "mimetype": "text/x-python",
   "name": "python",
   "nbconvert_exporter": "python",
   "pygments_lexer": "ipython3",
   "version": "3.11.5"
  }
 },
 "nbformat": 4,
 "nbformat_minor": 5
}
