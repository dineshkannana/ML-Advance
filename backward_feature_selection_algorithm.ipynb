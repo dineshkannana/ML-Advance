{
 "cells": [
  {
   "cell_type": "code",
   "execution_count": null,
   "id": "8c5f5269-0b61-4092-a720-f93648a6442d",
   "metadata": {},
   "outputs": [],
   "source": [
    "import pandas as pd\n",
    "from sklearn.feature_selection import SequentialFeatureSelector\n",
    "from sklearn.linear_model import LogisticRegression\n",
    "from sklearn.ensemble import RandomForestClassifier\n",
    "from sklearn.preprocessing import StandardScaler  # Import StandardScaler\n",
    "\n",
    "# Assuming 'prep.csv' is in the same directory or provide the full path\n",
    "dataset = pd.read_csv(\"prep.csv\", index_col=None)\n",
    "df1 = dataset\n",
    "\n",
    "# Convert categorical variable into dummy/indicator variables.\n",
    "df1 = pd.get_dummies(df1, drop_first=True, dtype=int)\n",
    "print(df1.head())\n",
    "\n",
    "# separation of independent and dependent variables\n",
    "indep = df1.drop(\"classification_yes\", axis=1)\n",
    "dep = df1[\"classification_yes\"]\n",
    "\n",
    "# Scale the independent variables\n",
    "scaler = StandardScaler()\n",
    "indep_scaled = scaler.fit_transform(indep)\n",
    "indep_scaled = pd.DataFrame(indep_scaled, columns=indep.columns) # Convert back to DataFrame for column names\n",
    "\n",
    "# Instantiate the RandomForestClassifier\n",
    "rf_classifier = RandomForestClassifier()\n",
    "\n",
    "def backward_selection(indep, dep, n, estimator):\n",
    "    \"\"\"\n",
    "    Performs backward feature selection.\n",
    "\n",
    "    Args:\n",
    "        indep (pd.DataFrame): Independent variables (scaled).\n",
    "        dep (pd.Series): Dependent variable.\n",
    "        n (int): Number of features to select.\n",
    "        estimator: An instance of a scikit-learn estimator for feature selection.\n",
    "\n",
    "    Returns:\n",
    "        tuple: A tuple containing the new feature matrix and the list of selected features.\n",
    "    \"\"\"\n",
    "    logistic_model = LogisticRegression(solver='saga', max_iter=5000)  # Increased max_iter\n",
    "    bs = SequentialFeatureSelector(estimator=estimator, n_features_to_select=n, direction='backward', scoring=None, cv=5, n_jobs=1)\n",
    "    fit1 = bs.fit(indep, dep)\n",
    "    x_new = fit1.transform(indep)\n",
    "    selected_features = indep.columns[fit1.get_support()]\n",
    "    return x_new, selected_features\n",
    "\n",
    "# Use the instance in SequentialFeatureSelector, passing the scaled data\n",
    "x_new, selected_features = backward_selection(indep_scaled, dep, 3, rf_classifier)\n",
    "print(\"Selected Features:\", selected_features)\n",
    "print(\"New feature matrix (x_new):\\n\", x_new)"
   ]
  },
  {
   "cell_type": "code",
   "execution_count": null,
   "id": "c44ffd8a-6581-4b3a-9d2b-0e3427afe3ed",
   "metadata": {},
   "outputs": [],
   "source": []
  }
 ],
 "metadata": {
  "kernelspec": {
   "display_name": "Python 3 (ipykernel)",
   "language": "python",
   "name": "python3"
  },
  "language_info": {
   "codemirror_mode": {
    "name": "ipython",
    "version": 3
   },
   "file_extension": ".py",
   "mimetype": "text/x-python",
   "name": "python",
   "nbconvert_exporter": "python",
   "pygments_lexer": "ipython3",
   "version": "3.11.5"
  }
 },
 "nbformat": 4,
 "nbformat_minor": 5
}
